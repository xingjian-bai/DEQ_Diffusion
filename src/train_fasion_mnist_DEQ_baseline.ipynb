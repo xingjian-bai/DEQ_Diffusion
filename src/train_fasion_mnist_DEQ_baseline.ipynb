{
 "cells": [
  {
   "attachments": {},
   "cell_type": "markdown",
   "metadata": {},
   "source": [
    "## Prepare Dataset"
   ]
  },
  {
   "cell_type": "code",
   "execution_count": 12,
   "metadata": {},
   "outputs": [],
   "source": [
    "import sys\n",
    "sys.path.insert(1, '../datasets/')\n",
    "from fasion_mnist import Dataset, DataLoader, TestDataloader\n",
    "from fasion_mnist import IMAGE_SIZE, CHANNELS, BATCH_SIZE\n",
    "dataset = Dataset()\n",
    "dataloader = DataLoader()\n",
    "test_dataloader = TestDataloader()"
   ]
  },
  {
   "attachments": {},
   "cell_type": "markdown",
   "metadata": {},
   "source": [
    "## Prepare Models"
   ]
  },
  {
   "cell_type": "code",
   "execution_count": 13,
   "metadata": {},
   "outputs": [],
   "source": [
    "import importlib\n",
    "import deq_model #import the module here, so that it can be reloaded.\n",
    "importlib.reload(deq_model)\n",
    "from deq_model import DEQ # or whatever name you want."
   ]
  },
  {
   "cell_type": "code",
   "execution_count": 14,
   "metadata": {},
   "outputs": [],
   "source": [
    "import torch\n",
    "from torch.optim import Adam\n",
    "from deq_model import DEQ\n",
    "\n",
    "device = \"cuda\" if torch.cuda.is_available() else \"cpu\"\n",
    "model = DEQ(solver_type=\"anderson\", channels = CHANNELS).to(device)\n",
    "optimizer = Adam(model.parameters(), lr=1e-3)"
   ]
  },
  {
   "attachments": {},
   "cell_type": "markdown",
   "metadata": {},
   "source": [
    "## Hyper-parameters"
   ]
  },
  {
   "cell_type": "code",
   "execution_count": 15,
   "metadata": {},
   "outputs": [],
   "source": [
    "save_and_sample_every = 1000\n",
    "timesteps = 200\n",
    "scheduler_type = \"cosine\"\n",
    "\n",
    "from pathlib import Path\n",
    "from schedulers import Scheduler\n",
    "scheduler = Scheduler(scheduler_type, timesteps = timesteps)"
   ]
  },
  {
   "attachments": {},
   "cell_type": "markdown",
   "metadata": {},
   "source": [
    "## Evaluation"
   ]
  },
  {
   "cell_type": "code",
   "execution_count": 9,
   "metadata": {},
   "outputs": [],
   "source": [
    "from torchvision.utils import save_image\n",
    "from samplers import sample\n",
    "from losses import p_losses\n",
    "from utils import num_to_groups\n",
    "from torch.utils.data import DataLoader, random_split\n",
    "import time\n",
    "\n",
    "import random\n",
    "def evaluate (model):\n",
    "    model.eval()\n",
    "    total_loss = []\n",
    "    start_time = time.time()\n",
    "    \n",
    "    for step, batch in enumerate(test_dataloader):\n",
    "        batch_size = batch[\"pixel_values\"].shape[0]\n",
    "        batch = batch[\"pixel_values\"].to(device)\n",
    "        t = torch.randint(0, scheduler.timesteps, (batch_size,), device=device).long()\n",
    "        loss = p_losses(model, scheduler, batch, t, loss_type=\"huber\")\n",
    "        total_loss += [loss.item()]\n",
    "\n",
    "    model.train()\n",
    "    end_time = time.time()\n",
    "    mean_loss = sum(total_loss) / len(total_loss)\n",
    "    print(f'eval loss {mean_loss}, with run time {end_time - start_time}')\n",
    "    return mean_loss"
   ]
  },
  {
   "cell_type": "code",
   "execution_count": 10,
   "metadata": {},
   "outputs": [
    {
     "name": "stdout",
     "output_type": "stream",
     "text": [
      "eval loss 0.07885499586221538, with run time 17.915499448776245\n",
      "[] 0.07885499586221538\n",
      "eval loss 0.06774539557061618, with run time 14.90221357345581\n",
      "[0.07885499586221538] 0.06774539557061618\n",
      "eval loss 0.06110637771743763, with run time 12.062571048736572\n",
      "[0.07885499586221538, 0.06774539557061618] 0.06110637771743763\n",
      "eval loss 0.05871354519755025, with run time 12.068068265914917\n",
      "[0.07885499586221538, 0.06774539557061618, 0.06110637771743763] 0.05871354519755025\n",
      "eval loss 0.057714751296782794, with run time 12.115832090377808\n",
      "[0.07885499586221538, 0.06774539557061618, 0.06110637771743763, 0.05871354519755025] 0.057714751296782794\n",
      "eval loss 0.05554790945747231, with run time 12.086266994476318\n",
      "[0.07885499586221538, 0.06774539557061618, 0.06110637771743763, 0.05871354519755025, 0.057714751296782794] 0.05554790945747231\n",
      "eval loss 0.08754467096509813, with run time 12.184159755706787\n",
      "[0.07885499586221538, 0.06774539557061618, 0.06110637771743763, 0.05871354519755025, 0.057714751296782794, 0.05554790945747231] 0.08754467096509813\n",
      "eval loss 0.07062041660464263, with run time 12.158719301223755\n",
      "[0.07885499586221538, 0.06774539557061618, 0.06110637771743763, 0.05871354519755025, 0.057714751296782794, 0.05554790945747231, 0.08754467096509813] 0.07062041660464263\n",
      "eval loss 0.07003173713065401, with run time 12.215102195739746\n",
      "[0.07885499586221538, 0.06774539557061618, 0.06110637771743763, 0.05871354519755025, 0.057714751296782794, 0.05554790945747231, 0.08754467096509813, 0.07062041660464263] 0.07003173713065401\n",
      "eval loss 0.07144264112922209, with run time 8.328117370605469\n",
      "[0.07885499586221538, 0.06774539557061618, 0.06110637771743763, 0.05871354519755025, 0.057714751296782794, 0.05554790945747231, 0.08754467096509813, 0.07062041660464263, 0.07003173713065401] 0.07144264112922209\n"
     ]
    }
   ],
   "source": [
    "deq = []\n",
    "for i in range (10):\n",
    "    name = f'../weights/fasion_mnist_DEQ_anderson_24_ep{i}.pkl'\n",
    "    model.load_state_dict(torch.load(name))\n",
    "    loss = evaluate(model)\n",
    "    deq.append(loss)\n",
    "\n",
    "import pickle\n",
    "with open('../stats/fasion_mnist_DEQ_anderson_24.pkl', 'wb') as f:\n",
    "    pickle.dump(deq, f)"
   ]
  },
  {
   "attachments": {},
   "cell_type": "markdown",
   "metadata": {},
   "source": [
    "## Training"
   ]
  },
  {
   "cell_type": "code",
   "execution_count": 16,
   "metadata": {},
   "outputs": [],
   "source": [
    "from torchvision.utils import save_image\n",
    "from samplers import sample\n",
    "from losses import p_losses\n",
    "from utils import num_to_groups\n",
    "\n",
    "def train (model, optimizer, scheduler, dataloader = dataloader, epochs=10, channels=CHANNELS):\n",
    "    for epoch in range(epochs):\n",
    "        epoch_loss = []\n",
    "        for step, batch in enumerate(dataloader):\n",
    "            batch_size = batch[\"pixel_values\"].shape[0]\n",
    "            optimizer.zero_grad()\n",
    "            batch = batch[\"pixel_values\"].to(device)\n",
    "\n",
    "            # Algorithm 1 line 3: sample t uniformally for every example in the batch\n",
    "            t = torch.randint(0, scheduler.timesteps, (batch_size,), device=device).long()\n",
    "\n",
    "            loss = p_losses(model, scheduler, batch, t, loss_type=\"huber\")\n",
    "            epoch_loss.append(loss.item())\n",
    "\n",
    "            if step % 10 == 0:\n",
    "                print(\"loss:\", loss.item(), 'at step', step, ' out of ', len(dataloader))\n",
    "\n",
    "            loss.backward()\n",
    "            optimizer.step()\n",
    "\n",
    "            # save generated images\n",
    "            # if step != 0 and step % save_and_sample_every == 0:\n",
    "            #     milestone = step // save_and_sample_every\n",
    "            #     batches = num_to_groups(4, batch_size)\n",
    "            #     all_images_list = list(map(lambda n: sample(model, scheduler, batch_size=n, channels=channels), batches))\n",
    "            #     all_images = torch.cat(all_images_list, dim=0)\n",
    "            #     all_images = (all_images + 1) * 0.5\n",
    "            #     save_image(all_images, str(results_folder / f'sample-{milestone}.png'), nrow = 6)\n",
    "        print(f'Loss after epoch {epoch}: {sum(epoch_loss) / len(epoch_loss)}')\n",
    "        torch.save(model.state_dict(), f'../weights/fasion_mnist_DEQ_anderson_48_ep{epoch}.pkl')\n"
   ]
  },
  {
   "cell_type": "code",
   "execution_count": 17,
   "metadata": {},
   "outputs": [
    {
     "name": "stdout",
     "output_type": "stream",
     "text": [
      "loss: 0.5952022075653076 at step 0  out of  469\n",
      "loss: 0.11349361389875412 at step 10  out of  469\n",
      "loss: 0.08691029250621796 at step 20  out of  469\n",
      "loss: 0.08626861870288849 at step 30  out of  469\n",
      "loss: 0.07981307059526443 at step 40  out of  469\n",
      "loss: 0.07295376807451248 at step 50  out of  469\n",
      "loss: 0.058810025453567505 at step 60  out of  469\n",
      "loss: 0.06805825978517532 at step 70  out of  469\n",
      "loss: 0.06898034363985062 at step 80  out of  469\n",
      "loss: 0.07022331655025482 at step 90  out of  469\n",
      "loss: 0.05684391036629677 at step 100  out of  469\n",
      "loss: 0.05738816782832146 at step 110  out of  469\n",
      "loss: 0.05522949621081352 at step 120  out of  469\n",
      "loss: 0.05379842221736908 at step 130  out of  469\n",
      "loss: 0.05342163145542145 at step 140  out of  469\n",
      "loss: 0.0450308620929718 at step 150  out of  469\n",
      "loss: 0.0470263808965683 at step 160  out of  469\n",
      "loss: 0.052180446684360504 at step 170  out of  469\n",
      "loss: 0.062197815626859665 at step 180  out of  469\n"
     ]
    },
    {
     "ename": "KeyboardInterrupt",
     "evalue": "",
     "output_type": "error",
     "traceback": [
      "\u001b[0;31m---------------------------------------------------------------------------\u001b[0m",
      "\u001b[0;31mKeyboardInterrupt\u001b[0m                         Traceback (most recent call last)",
      "Cell \u001b[0;32mIn[17], line 1\u001b[0m\n\u001b[0;32m----> 1\u001b[0m train(model, optimizer, scheduler)\n",
      "Cell \u001b[0;32mIn[16], line 23\u001b[0m, in \u001b[0;36mtrain\u001b[0;34m(model, optimizer, scheduler, dataloader, epochs, channels)\u001b[0m\n\u001b[1;32m     20\u001b[0m \u001b[39mif\u001b[39;00m step \u001b[39m%\u001b[39m \u001b[39m10\u001b[39m \u001b[39m==\u001b[39m \u001b[39m0\u001b[39m:\n\u001b[1;32m     21\u001b[0m     \u001b[39mprint\u001b[39m(\u001b[39m\"\u001b[39m\u001b[39mloss:\u001b[39m\u001b[39m\"\u001b[39m, loss\u001b[39m.\u001b[39mitem(), \u001b[39m'\u001b[39m\u001b[39mat step\u001b[39m\u001b[39m'\u001b[39m, step, \u001b[39m'\u001b[39m\u001b[39m out of \u001b[39m\u001b[39m'\u001b[39m, \u001b[39mlen\u001b[39m(dataloader))\n\u001b[0;32m---> 23\u001b[0m loss\u001b[39m.\u001b[39;49mbackward()\n\u001b[1;32m     24\u001b[0m optimizer\u001b[39m.\u001b[39mstep()\n\u001b[1;32m     26\u001b[0m \u001b[39m# save generated images\u001b[39;00m\n\u001b[1;32m     27\u001b[0m \u001b[39m# if step != 0 and step % save_and_sample_every == 0:\u001b[39;00m\n\u001b[1;32m     28\u001b[0m \u001b[39m#     milestone = step // save_and_sample_every\u001b[39;00m\n\u001b[0;32m   (...)\u001b[0m\n\u001b[1;32m     32\u001b[0m \u001b[39m#     all_images = (all_images + 1) * 0.5\u001b[39;00m\n\u001b[1;32m     33\u001b[0m \u001b[39m#     save_image(all_images, str(results_folder / f'sample-{milestone}.png'), nrow = 6)\u001b[39;00m\n",
      "File \u001b[0;32m~/miniconda3/envs/xingjian_new/lib/python3.9/site-packages/torch/_tensor.py:484\u001b[0m, in \u001b[0;36mTensor.backward\u001b[0;34m(self, gradient, retain_graph, create_graph, inputs)\u001b[0m\n\u001b[1;32m    474\u001b[0m \u001b[39mif\u001b[39;00m has_torch_function_unary(\u001b[39mself\u001b[39m):\n\u001b[1;32m    475\u001b[0m     \u001b[39mreturn\u001b[39;00m handle_torch_function(\n\u001b[1;32m    476\u001b[0m         Tensor\u001b[39m.\u001b[39mbackward,\n\u001b[1;32m    477\u001b[0m         (\u001b[39mself\u001b[39m,),\n\u001b[0;32m   (...)\u001b[0m\n\u001b[1;32m    482\u001b[0m         inputs\u001b[39m=\u001b[39minputs,\n\u001b[1;32m    483\u001b[0m     )\n\u001b[0;32m--> 484\u001b[0m torch\u001b[39m.\u001b[39;49mautograd\u001b[39m.\u001b[39;49mbackward(\n\u001b[1;32m    485\u001b[0m     \u001b[39mself\u001b[39;49m, gradient, retain_graph, create_graph, inputs\u001b[39m=\u001b[39;49minputs\n\u001b[1;32m    486\u001b[0m )\n",
      "File \u001b[0;32m~/miniconda3/envs/xingjian_new/lib/python3.9/site-packages/torch/autograd/__init__.py:197\u001b[0m, in \u001b[0;36mbackward\u001b[0;34m(tensors, grad_tensors, retain_graph, create_graph, grad_variables, inputs)\u001b[0m\n\u001b[1;32m    192\u001b[0m     retain_graph \u001b[39m=\u001b[39m create_graph\n\u001b[1;32m    194\u001b[0m \u001b[39m# The reason we repeat same the comment below is that\u001b[39;00m\n\u001b[1;32m    195\u001b[0m \u001b[39m# some Python versions print out the first line of a multi-line function\u001b[39;00m\n\u001b[1;32m    196\u001b[0m \u001b[39m# calls in the traceback and some print out the last line\u001b[39;00m\n\u001b[0;32m--> 197\u001b[0m Variable\u001b[39m.\u001b[39;49m_execution_engine\u001b[39m.\u001b[39;49mrun_backward(  \u001b[39m# Calls into the C++ engine to run the backward pass\u001b[39;49;00m\n\u001b[1;32m    198\u001b[0m     tensors, grad_tensors_, retain_graph, create_graph, inputs,\n\u001b[1;32m    199\u001b[0m     allow_unreachable\u001b[39m=\u001b[39;49m\u001b[39mTrue\u001b[39;49;00m, accumulate_grad\u001b[39m=\u001b[39;49m\u001b[39mTrue\u001b[39;49;00m)\n",
      "\u001b[0;31mKeyboardInterrupt\u001b[0m: "
     ]
    }
   ],
   "source": [
    "train(model, optimizer, scheduler)"
   ]
  },
  {
   "attachments": {},
   "cell_type": "markdown",
   "metadata": {},
   "source": [
    "## Visualize & Eval"
   ]
  },
  {
   "cell_type": "code",
   "execution_count": 7,
   "metadata": {},
   "outputs": [],
   "source": [
    "# import importlib\n",
    "# import samplers\n",
    "# import schedulers\n",
    "# importlib.reload(samplers)\n",
    "# importlib.reload(schedulers)\n",
    "# from samplers import sample"
   ]
  },
  {
   "cell_type": "code",
   "execution_count": 8,
   "metadata": {},
   "outputs": [
    {
     "name": "stderr",
     "output_type": "stream",
     "text": [
      "sampling loop time step: 100%|██████████| 200/200 [00:06<00:00, 31.62it/s]\n"
     ]
    }
   ],
   "source": [
    "from samplers import sample\n",
    "%matplotlib inline\n",
    "import matplotlib.pyplot as plt\n",
    "# sample 64 images\n",
    "samples = sample(model, scheduler, image_size=image_size, batch_size=64, channels=channels)\n",
    "# print(f'shape of samples: {samples[-1].shape}')\n"
   ]
  },
  {
   "cell_type": "code",
   "execution_count": 31,
   "metadata": {},
   "outputs": [
    {
     "data": {
      "text/plain": [
       "<matplotlib.image.AxesImage at 0x7f472a19f730>"
      ]
     },
     "execution_count": 31,
     "metadata": {},
     "output_type": "execute_result"
    },
    {
     "data": {
      "image/png": "[encoded data removed]",
      "text/plain": [
       "<Figure size 640x480 with 1 Axes>"
      ]
     },
     "metadata": {},
     "output_type": "display_data"
    }
   ],
   "source": [
    "\n",
    "from random import randrange\n",
    "random_index = randrange(0, 64)\n",
    "# assert(samples[-1][random_index].shape == channels, image_size, image_size)\n",
    "plt.imshow(samples[-1][random_index].reshape(image_size, image_size, channels), cmap=\"gray\")"
   ]
  },
  {
   "cell_type": "code",
   "execution_count": 13,
   "metadata": {},
   "outputs": [
    {
     "data": {
      "image/png": "[encoded data removed]",
      "text/plain": [
       "<Figure size 640x480 with 1 Axes>"
      ]
     },
     "metadata": {},
     "output_type": "display_data"
    }
   ],
   "source": [
    "import matplotlib.animation as animation\n",
    "%matplotlib inline\n",
    "import matplotlib.pyplot as plt\n",
    "from random import randrange\n",
    "\n",
    "random_index = randrange(0, 64)\n",
    "\n",
    "fig = plt.figure()\n",
    "ims = []\n",
    "for i in range(scheduler.timesteps):\n",
    "    im = plt.imshow(samples[i][random_index].reshape(image_size, image_size, channels), cmap=\"gray\", animated=True)\n",
    "    ims.append([im])\n",
    "\n",
    "animate = animation.ArtistAnimation(fig, ims, interval=50, blit=True, repeat_delay=1000)\n",
    "# print(animate)\n",
    "animate.save(f'diffusion_{random_index}.gif')\n",
    "plt.show()"
   ]
  },
  {
   "cell_type": "code",
   "execution_count": null,
   "metadata": {},
   "outputs": [],
   "source": []
  }
 ],
 "metadata": {
  "kernelspec": {
   "display_name": "xingjian_new",
   "language": "python",
   "name": "python3"
  },
  "language_info": {
   "codemirror_mode": {
    "name": "ipython",
    "version": 3
   },
   "file_extension": ".py",
   "mimetype": "text/x-python",
   "name": "python",
   "nbconvert_exporter": "python",
   "pygments_lexer": "ipython3",
   "version": "3.9.15"
  },
  "orig_nbformat": 4,
  "vscode": {
   "interpreter": {
    "hash": "debc8a86316dc5025cb25925172928ee12f5b99bfec632ec58e3bcc6c82797d0"
   }
  }
 },
 "nbformat": 4,
 "nbformat_minor": 2
}
