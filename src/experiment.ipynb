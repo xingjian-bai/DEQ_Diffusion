{
 "cells": [
  {
   "cell_type": "code",
   "execution_count": 1,
   "metadata": {},
   "outputs": [],
   "source": [
    "import hydra\n",
    "from omegaconf import DictConfig, OmegaConf\n",
    "import torch\n",
    "import sys\n",
    "from torch.optim import Adam\n",
    "from torchvision.utils import save_image\n",
    "from torch.utils.data import DataLoader, random_split\n",
    "from models import CentralModel\n",
    "from utils import num_to_groups\n",
    "sys.path.insert(1, '../datasets/')\n",
    "from samplers import sample\n",
    "from losses import p_losses\n",
    "from dataset_wraper import DatasetWraper\n",
    "from schedulers import Scheduler\n",
    "import os\n",
    "import time\n",
    "\n",
    "\n",
    "def evaluate (data, model, scheduler, device):\n",
    "    model.eval()\n",
    "    total_loss = []\n",
    "    start_eval_time = time.time()\n",
    "    \n",
    "    for step, batch in enumerate(data.TestDataloader()):\n",
    "        batch_size = batch[\"pixel_values\"].shape[0]\n",
    "        batch = batch[\"pixel_values\"].to(device)\n",
    "        t = torch.randint(0, scheduler.timesteps, (batch_size,), device=device).long()\n",
    "        loss = p_losses(model, scheduler, batch, t, loss_type=\"huber\")\n",
    "        total_loss += [loss.item()]\n",
    "\n",
    "    model.train()\n",
    "    mean_loss = sum(total_loss) / len(total_loss)\n",
    "    print(f'eval loss {mean_loss:.4f}, with time {time.time() - start_eval_time:.2f}s')\n",
    "    return mean_loss\n",
    "\n",
    "def train(data, model, optimizer, scheduler, cfg, device):\n",
    "    model.train()\n",
    "    for epoch in range(cfg.training.epochs):\n",
    "        start_epoch_time = time.time()\n",
    "        formatted_time = time.strftime('%H-%M-%b-%d-%Y')\n",
    "        experiment_name = f\"{data}_{model}_{cfg.optimizer.type}_{scheduler}_{cfg.training.loss}__ep{epoch}_{formatted_time}\"\n",
    "        print(f'conducting experiment {experiment_name} in directory {os.getcwd()}')\n",
    "\n",
    "        epoch_loss = []\n",
    "        for step, batch in enumerate(data.DataLoader()):\n",
    "            optimizer.zero_grad()\n",
    "\n",
    "            batch_size = batch[\"pixel_values\"].shape[0]\n",
    "            batch = batch[\"pixel_values\"].to(device)\n",
    "\n",
    "            t = torch.randint(0, cfg.scheduler.timesteps, (batch_size,), device=device).long()\n",
    "\n",
    "            loss = p_losses(model, scheduler, batch, t, loss_type=cfg.training.loss)\n",
    "            epoch_loss.append(loss.item())\n",
    "\n",
    "            if step % 100 == 0:\n",
    "                print(f'loss: {loss:.4f} at step {step} out of {len(data.DataLoader())}')\n",
    "\n",
    "            loss.backward()\n",
    "            optimizer.step()\n",
    "\n",
    "        print(f'Epoch {epoch}: loss={sum(epoch_loss) / len(epoch_loss):.4f}, with time {time.time() - start_epoch_time:.2f}s')\n",
    "\n",
    "        if epoch % cfg.training.eval_every == 0:\n",
    "            evaluate(data, model, scheduler, device)\n",
    "        if epoch % cfg.training.save_every == 0:\n",
    "            torch.save(model.state_dict(), f'../weights/{experiment_name}.pkl')\n",
    "        if epoch % cfg.training.visualize_every == 0:\n",
    "            data.visualize(model, scheduler, experiment_name, sum(epoch_loss) / len(epoch_loss))"
   ]
  },
  {
   "cell_type": "code",
   "execution_count": 7,
   "metadata": {},
   "outputs": [],
   "source": [
    "model = torch.load('../weights/FasionMNIST_UNet_Adam_cosine_huber__ep0_21-29-Jan-31-2023.pkl')\n",
    "scheduler = Scheduler('cosine', timesteps=200)\n",
    "data = DatasetWraper(cfg)"
   ]
  },
  {
   "cell_type": "code",
   "execution_count": 3,
   "metadata": {},
   "outputs": [
    {
     "name": "stderr",
     "output_type": "stream",
     "text": [
      "usage: ipykernel_launcher.py [--help] [--hydra-help] [--version]\n",
      "                             [--cfg {job,hydra,all}] [--resolve]\n",
      "                             [--package PACKAGE] [--run] [--multirun]\n",
      "                             [--shell-completion] [--config-path CONFIG_PATH]\n",
      "                             [--config-name CONFIG_NAME]\n",
      "                             [--config-dir CONFIG_DIR]\n",
      "                             [--experimental-rerun EXPERIMENTAL_RERUN]\n",
      "                             [--info [{all,config,defaults,defaults-tree,plugins,searchpath}]]\n",
      "                             [overrides ...]\n",
      "ipykernel_launcher.py: error: unrecognized arguments: -f\n"
     ]
    },
    {
     "ename": "SystemExit",
     "evalue": "2",
     "output_type": "error",
     "traceback": [
      "An exception has occurred, use %tb to see the full traceback.\n",
      "\u001b[0;31mSystemExit\u001b[0m\u001b[0;31m:\u001b[0m 2\n"
     ]
    },
    {
     "name": "stderr",
     "output_type": "stream",
     "text": [
      "/users/lukemk/miniconda3/envs/xingjian_new/lib/python3.9/site-packages/IPython/core/interactiveshell.py:3441: UserWarning: To exit: use 'exit', 'quit', or Ctrl-D.\n",
      "  warn(\"To exit: use 'exit', 'quit', or Ctrl-D.\", stacklevel=1)\n"
     ]
    }
   ],
   "source": []
  },
  {
   "cell_type": "code",
   "execution_count": null,
   "metadata": {},
   "outputs": [],
   "source": []
  }
 ],
 "metadata": {
  "kernelspec": {
   "display_name": "xingjian_new",
   "language": "python",
   "name": "python3"
  },
  "language_info": {
   "codemirror_mode": {
    "name": "ipython",
    "version": 3
   },
   "file_extension": ".py",
   "mimetype": "text/x-python",
   "name": "python",
   "nbconvert_exporter": "python",
   "pygments_lexer": "ipython3",
   "version": "3.9.15 | packaged by conda-forge | (main, Nov 22 2022, 15:55:03) \n[GCC 10.4.0]"
  },
  "orig_nbformat": 4,
  "vscode": {
   "interpreter": {
    "hash": "debc8a86316dc5025cb25925172928ee12f5b99bfec632ec58e3bcc6c82797d0"
   }
  }
 },
 "nbformat": 4,
 "nbformat_minor": 2
}
