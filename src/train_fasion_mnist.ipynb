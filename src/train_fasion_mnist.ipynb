{
 "cells": [
  {
   "cell_type": "code",
   "execution_count": 41,
   "metadata": {},
   "outputs": [],
   "source": [
    "import sys\n",
    "sys.path.insert(1, '../datasets/')\n",
    "from fasion_mnist import Dataset, DataLoader\n",
    "from fasion_mnist import image_size, channels, batch_size\n",
    "\n",
    "image_size = 28\n",
    "channels = 1\n",
    "batch_size = 128\n",
    "dataset = Dataset()\n",
    "dataloader = DataLoader()"
   ]
  },
  {
   "cell_type": "code",
   "execution_count": 2,
   "metadata": {},
   "outputs": [],
   "source": [
    "import torch\n",
    "from torch.optim import Adam\n",
    "from models import Unet\n",
    "\n",
    "device = \"cuda\" if torch.cuda.is_available() else \"cpu\"\n",
    "\n",
    "model = Unet(\n",
    "    dim=image_size,\n",
    "    channels=channels,\n",
    "    dim_mults=(1, 2, 4,)\n",
    ").to(device)\n",
    "\n",
    "optimizer = Adam(model.parameters(), lr=1e-3)"
   ]
  },
  {
   "cell_type": "code",
   "execution_count": 3,
   "metadata": {},
   "outputs": [],
   "source": [
    "from pathlib import Path\n",
    "results_folder = Path(\"../results\")\n",
    "results_folder.mkdir(exist_ok = True)\n",
    "save_and_sample_every = 1000"
   ]
  },
  {
   "cell_type": "code",
   "execution_count": 4,
   "metadata": {},
   "outputs": [
    {
     "name": "stdout",
     "output_type": "stream",
     "text": [
      "Loss: 0.4971710443496704\n",
      "Loss: 0.1450914591550827\n",
      "Loss: 0.08990737050771713\n",
      "Loss: 0.07842179387807846\n",
      "Loss: 0.05857508257031441\n",
      "Loss: 0.05852915346622467\n",
      "Loss: 0.06540702283382416\n",
      "Loss: 0.0616956390440464\n",
      "Loss: 0.060013435781002045\n",
      "Loss: 0.0571100153028965\n",
      "Loss: 0.05389130860567093\n",
      "Loss: 0.05228929966688156\n",
      "Loss: 0.05384139344096184\n",
      "Loss: 0.055216409265995026\n",
      "Loss: 0.043042201548814774\n",
      "Loss: 0.05090297758579254\n",
      "Loss: 0.039567552506923676\n",
      "Loss: 0.0457720048725605\n",
      "Loss: 0.0458931140601635\n",
      "Loss: 0.04669671133160591\n",
      "Loss: 0.04843626543879509\n",
      "Loss: 0.042360782623291016\n",
      "Loss: 0.04743233323097229\n",
      "Loss: 0.04013746976852417\n",
      "Loss: 0.04985016956925392\n"
     ]
    }
   ],
   "source": [
    "from torchvision.utils import save_image\n",
    "from forward import timesteps\n",
    "from samplers import sample\n",
    "from losses import p_losses\n",
    "from utils import num_to_groups\n",
    "\n",
    "\n",
    "epochs = 5\n",
    "\n",
    "for epoch in range(epochs):\n",
    "    for step, batch in enumerate(dataloader):\n",
    "      optimizer.zero_grad()\n",
    "\n",
    "      batch_size = batch[\"pixel_values\"].shape[0]\n",
    "      batch = batch[\"pixel_values\"].to(device)\n",
    "\n",
    "      # Algorithm 1 line 3: sample t uniformally for every example in the batch\n",
    "      t = torch.randint(0, timesteps, (batch_size,), device=device).long()\n",
    "\n",
    "      loss = p_losses(model, batch, t, loss_type=\"huber\")\n",
    "\n",
    "      if step % 100 == 0:\n",
    "        print(\"Loss:\", loss.item())\n",
    "\n",
    "      loss.backward()\n",
    "      optimizer.step()\n",
    "\n",
    "      # save generated images\n",
    "      if step != 0 and step % save_and_sample_every == 0:\n",
    "        milestone = step // save_and_sample_every\n",
    "        batches = num_to_groups(4, batch_size)\n",
    "        all_images_list = list(map(lambda n: sample(model, batch_size=n, channels=channels), batches))\n",
    "        all_images = torch.cat(all_images_list, dim=0)\n",
    "        all_images = (all_images + 1) * 0.5\n",
    "        save_image(all_images, str(results_folder / f'sample-{milestone}.png'), nrow = 6)"
   ]
  },
  {
   "cell_type": "code",
   "execution_count": 42,
   "metadata": {},
   "outputs": [
    {
     "data": {
      "application/vnd.jupyter.widget-view+json": {
       "model_id": "fea03f565d2b4f699db173ae033aff2a",
       "version_major": 2,
       "version_minor": 0
      },
      "text/plain": [
       "sampling loop time step:   0%|          | 0/200 [00:00<?, ?it/s]"
      ]
     },
     "metadata": {},
     "output_type": "display_data"
    },
    {
     "name": "stdout",
     "output_type": "stream",
     "text": [
      "shape of samples: (64, 1, 28, 28)\n"
     ]
    }
   ],
   "source": [
    "from samplers import sample\n",
    "%matplotlib inline\n",
    "import matplotlib.pyplot as plt\n",
    "# sample 64 images\n",
    "samples = sample(model, image_size=image_size, batch_size=64, channels=channels)\n",
    "print(f'shape of samples: {samples[-1].shape}')\n"
   ]
  },
  {
   "cell_type": "code",
   "execution_count": 43,
   "metadata": {},
   "outputs": [
    {
     "data": {
      "text/plain": [
       "<matplotlib.image.AxesImage at 0x7ff9e53e63d0>"
      ]
     },
     "execution_count": 43,
     "metadata": {},
     "output_type": "execute_result"
    },
    {
     "data": {
      "image/png": "[encoded data removed]",
      "text/plain": [
       "<Figure size 640x480 with 1 Axes>"
      ]
     },
     "metadata": {},
     "output_type": "display_data"
    }
   ],
   "source": [
    "\n",
    "from random import randrange\n",
    "random_index = randrange(0, 64)\n",
    "# assert(samples[-1][random_index].shape == channels, image_size, image_size)\n",
    "plt.imshow(samples[-1][random_index].reshape(image_size, image_size, channels), cmap=\"gray\")"
   ]
  },
  {
   "cell_type": "code",
   "execution_count": 44,
   "metadata": {},
   "outputs": [
    {
     "data": {
      "image/png": "[encoded data removed]",
      "text/plain": [
       "<Figure size 640x480 with 1 Axes>"
      ]
     },
     "metadata": {},
     "output_type": "display_data"
    }
   ],
   "source": [
    "import matplotlib.animation as animation\n",
    "%matplotlib inline\n",
    "import matplotlib.pyplot as plt\n",
    "\n",
    "random_index = randrange(0, 64)\n",
    "\n",
    "fig = plt.figure()\n",
    "ims = []\n",
    "for i in range(timesteps):\n",
    "    im = plt.imshow(samples[i][random_index].reshape(image_size, image_size, channels), cmap=\"gray\", animated=True)\n",
    "    ims.append([im])\n",
    "\n",
    "animate = animation.ArtistAnimation(fig, ims, interval=50, blit=True, repeat_delay=1000)\n",
    "# print(animate)\n",
    "animate.save('diffusion.gif')\n",
    "plt.show()"
   ]
  },
  {
   "cell_type": "code",
   "execution_count": null,
   "metadata": {},
   "outputs": [],
   "source": []
  }
 ],
 "metadata": {
  "kernelspec": {
   "display_name": "xingjian_new",
   "language": "python",
   "name": "python3"
  },
  "language_info": {
   "codemirror_mode": {
    "name": "ipython",
    "version": 3
   },
   "file_extension": ".py",
   "mimetype": "text/x-python",
   "name": "python",
   "nbconvert_exporter": "python",
   "pygments_lexer": "ipython3",
   "version": "3.9.15"
  },
  "orig_nbformat": 4,
  "vscode": {
   "interpreter": {
    "hash": "debc8a86316dc5025cb25925172928ee12f5b99bfec632ec58e3bcc6c82797d0"
   }
  }
 },
 "nbformat": 4,
 "nbformat_minor": 2
}
